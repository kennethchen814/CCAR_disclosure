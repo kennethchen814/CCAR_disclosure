{
 "cells": [
  {
   "cell_type": "markdown",
   "metadata": {
    "hideCode": false,
    "hidePrompt": false
   },
   "source": [
    "# FED CCAR Disclosure "
   ]
  },
  {
   "cell_type": "code",
   "execution_count": 1,
   "metadata": {
    "hideCode": false,
    "hidePrompt": false
   },
   "outputs": [],
   "source": [
    "import plotly_express as px\n",
    "import matplotlib.pyplot as plt\n",
    "import pandas as pds\n",
    "from ipywidgets import interact, interactive, fixed, interact_manual, HBox, VBox\n",
    "import ipywidgets as widgets\n",
    "import seaborn as sns\n",
    "import plotly.plotly as py\n",
    "import plotly.graph_objs as go"
   ]
  },
  {
   "cell_type": "code",
   "execution_count": 2,
   "metadata": {
    "hideCode": false,
    "hidePrompt": false
   },
   "outputs": [],
   "source": [
    "# table_20 = pds.read_excel(\"Table20_21_FED.xlsx\")\n",
    "table_20 = pds.read_excel(\"FED_Disclosure_Tables_Corp_Cards.xlsx\", sheet_name = 'Corp', encoding = 'utf-8')\n",
    "table_20_t = table_20.melt(id_vars=['Category', 'Variable'])\n",
    "table_20_t.rename(columns = {'variable': 'result_cat', 'value': 'percentage'}, inplace = True)\n",
    "\n",
    "table_26 = pds.read_excel(\"FED_Disclosure_Tables_Corp_Cards.xlsx\", sheet_name = 'Card',encoding = 'utf-8')\n",
    "table_26_t = table_26.melt(id_vars=['Category', 'Variable'])\n",
    "table_26_t.rename(columns = {'variable': 'result_cat', 'value': 'percentage'}, inplace = True)\n",
    "\n",
    "table_26_t['Variable'] = [str(i) for i in table_26_t['Variable'].tolist()]\n"
   ]
  },
  {
   "cell_type": "markdown",
   "metadata": {
    "hideCode": false,
    "hidePrompt": false
   },
   "source": [
    "## Plot # 1: Table 20 & 21"
   ]
  },
  {
   "cell_type": "code",
   "execution_count": 3,
   "metadata": {
    "hideCode": false,
    "hidePrompt": false
   },
   "outputs": [],
   "source": [
    "def corp (grade, fi, sec, cat):\n",
    "    if grade == 'Investment Grade':\n",
    "        if fi == 'Financial Sector':\n",
    "            if sec == 'Secured': x = 'IG_FIN_S'\n",
    "            else: x = 'IG_FIN_US'\n",
    "        else:\n",
    "            if sec == 'Secured': x = 'IG_NFIN_S'\n",
    "            else: x = 'IG_NFIN_US'\n",
    "    else:\n",
    "        if fi == 'Financial Sector':\n",
    "            if sec == 'Secured': x = 'NIG_FIN_S'\n",
    "            else: x = 'NIG_FIN_US'\n",
    "        else:\n",
    "            if sec == 'Secured': x = 'NIG_NFIN_S'\n",
    "            else: x = 'NIG_NFIN_US'\n",
    "    \n",
    "    if cat == 'Facility Type': y = 'Facility_type'\n",
    "    elif cat == 'Rating': y = 'Rating'\n",
    "    elif cat == 'Lien Position': y = 'Lien_position' \n",
    "    elif cat == 'Interest Rate': y = 'IR_variability'\n",
    "    elif cat == 'Industry': y = 'Industry'\n",
    "    elif cat == 'Guarantor': y = 'Guarantor_flag'\n",
    "    elif cat == 'Other': y = 'Other'\n",
    "    else: y = 'Loss_Rate'\n",
    "      \n",
    "    cm = sns.light_palette(\"green\", as_cmap=True)\n",
    "#     fig = px.bar(table_20_t[(table_20_t.result_cat == x) & (table_20_t.Category == y)], \\\n",
    "#                x=\"Variable\", y=\"percentage\", orientation=\"v\", title = cat, \\\n",
    "#                labels = {'percentage': 'Pct (%)', 'Variable': 'Risk Category'})\n",
    "    \n",
    "#     display(fig)\n",
    "        \n",
    "    display(px.bar(table_20_t[(table_20_t.result_cat == x) & (table_20_t.Category == y)], \\\n",
    "                   x=\"Variable\", y=\"percentage\", orientation=\"v\", title = cat, \\\n",
    "                   labels = {'percentage': 'Pct (%)', 'Variable': 'Risk Category'}))\n",
    "    \n",
    "    table_print = table_20[['Category', 'Variable', x]][table_20.Category == y] \\\n",
    "            .style.background_gradient(cmap=cm, subset=[x]) \\\n",
    "            .highlight_max(subset=[x])\n",
    "    \n",
    "    display(table_print)\n",
    "\n",
    "\n",
    "def card (score, cat):\n",
    "    x = score\n",
    "    \n",
    "    if cat == 'Credit card type': y = 'Credit card type'\n",
    "    elif cat == 'Current credit limit': y = 'Current credit limit'\n",
    "    elif cat == 'Days past due': y = 'Days past due' \n",
    "    elif cat == 'Product type': y = 'Product type'\n",
    "    elif cat == 'Month-end account status': y = 'Month-end account status'\n",
    "    elif cat == 'Account origination year': y = 'Account origination year'\n",
    "    elif cat == 'Month-end close status': y = 'Month-end close status'\n",
    "    elif cat == 'Cycle ending balance': y = 'Cycle ending balance'\n",
    "    elif cat == 'Income at origination': y = 'Income at origination'\n",
    "    elif cat == 'Original credit limit': y = 'Original credit limit'\n",
    "    elif cat == 'Interest rate at cycle end': y = 'Interest rate at cycle end'\n",
    "    else: y = 'Loss_Rate'\n",
    "      \n",
    "    cm = sns.light_palette(\"green\", as_cmap=True)\n",
    "    display(px.bar(table_26_t[(table_26_t.result_cat == x) & (table_26_t.Category == y)], \\\n",
    "                   x=\"Variable\", y=\"percentage\", orientation=\"v\", title = cat, \\\n",
    "                   labels = {'percentage': 'Pct (%)', 'Variable': 'Risk Category'}))\n",
    "    \n",
    "    table_print = table_26[['Category', 'Variable', x]][table_26.Category == y] \\\n",
    "            .style.background_gradient(cmap=cm, subset=[x]) \\\n",
    "            .highlight_max(subset=[x])\n",
    "    \n",
    "    display(table_print)    \n"
   ]
  },
  {
   "cell_type": "code",
   "execution_count": 4,
   "metadata": {
    "hideCode": false,
    "hidePrompt": false,
    "scrolled": false
   },
   "outputs": [
    {
     "data": {
      "application/vnd.jupyter.widget-view+json": {
       "model_id": "b5f9f21b65e64ce5ad4be44b44bf99a3",
       "version_major": 2,
       "version_minor": 0
      },
      "text/plain": [
       "Tab(children=(interactive(children=(Dropdown(description='Rating:', options=('Investment Grade', 'Non-investme…"
      ]
     },
     "metadata": {},
     "output_type": "display_data"
    }
   ],
   "source": [
    "grade_corp = widgets.Dropdown( \\\n",
    "    options=['Investment Grade', 'Non-investment Grade'], \\\n",
    "    value='Investment Grade', \\\n",
    "    description='Rating:', \\\n",
    "    disabled=False, \\\n",
    ")\n",
    "\n",
    "fi_corp = widgets.Dropdown( \\\n",
    "    options=['Financial Sector', 'Non-financial Sector'], \\\n",
    "    value='Non-financial Sector', \\\n",
    "    description='Sector:', \\\n",
    "    disabled=False, \\\n",
    ")\n",
    "\n",
    "sec_corp = widgets.Dropdown( \\\n",
    "    options=['Secured', 'Unsecured'], \\\n",
    "    value='Secured', \\\n",
    "    description='Collateral:', \\\n",
    "    disabled=False, \\\n",
    ")\n",
    "\n",
    "cat_corp = widgets.RadioButtons(\n",
    "    options=['Facility Type', 'Rating', 'Lien Position', 'Interest Rate', 'Industry', 'Guarantor', 'Other', 'Loss Rate'],\n",
    "    value='Loss Rate',\n",
    "    description='Risk Category:',\n",
    "    disabled=False\n",
    ")\n",
    "\n",
    "score_card = widgets.Dropdown( \\\n",
    "    options=['Below_650', '650_to_699','700_to_749','Above_750'], \\\n",
    "    value='Below_650', \\\n",
    "    description='Rating:', \\\n",
    "    disabled=False, \\\n",
    ")\n",
    "\n",
    "cat_card = widgets.RadioButtons(\n",
    "    options=['Credit card type', 'Current credit limit', 'Days past due', 'Product type', 'Month-end account status', \n",
    "             'Account origination year', 'Month-end close status', 'Cycle ending balance','Income at origination',\n",
    "            'Original credit limit','Interest rate at cycle end','Loss_Rate'],\n",
    "    value='Loss_Rate',\n",
    "    description='Risk Category:',\n",
    "    disabled=False\n",
    ")\n",
    "\n",
    "# widgets.interactive(f, grade = grade, fi = fi, sec = sec, cat = cat)\n",
    "\n",
    "tab = widgets.Tab()\n",
    "k = [widgets.interactive(corp, grade = grade_corp, fi = fi_corp, sec = sec_corp, cat = cat_corp),\n",
    "     widgets.interactive(card, score = score_card, cat = cat_card)]\n",
    "# tab.children = [VBox(children = k.children)]\n",
    "tab.children = k\n",
    "tab.set_title(0, 'InteractivePlots-Corp')\n",
    "tab.set_title(1, 'InteractivePlots-Card')\n",
    "\n",
    "display(tab)\n",
    "\n"
   ]
  },
  {
   "cell_type": "code",
   "execution_count": null,
   "metadata": {},
   "outputs": [],
   "source": []
  }
 ],
 "metadata": {
  "hide_code_all_hidden": false,
  "kernelspec": {
   "display_name": "Python 3",
   "language": "python",
   "name": "python3"
  },
  "language_info": {
   "codemirror_mode": {
    "name": "ipython",
    "version": 3
   },
   "file_extension": ".py",
   "mimetype": "text/x-python",
   "name": "python",
   "nbconvert_exporter": "python",
   "pygments_lexer": "ipython3",
   "version": "3.7.3"
  }
 },
 "nbformat": 4,
 "nbformat_minor": 2
}
